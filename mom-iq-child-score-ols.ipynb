{
 "cells": [
  {
   "cell_type": "code",
   "execution_count": 13,
   "id": "472f6465-8a8f-4750-8462-7da394953b4f",
   "metadata": {},
   "outputs": [
    {
     "data": {
      "text/html": [
       "<div>\n",
       "<style scoped>\n",
       "    .dataframe tbody tr th:only-of-type {\n",
       "        vertical-align: middle;\n",
       "    }\n",
       "\n",
       "    .dataframe tbody tr th {\n",
       "        vertical-align: top;\n",
       "    }\n",
       "\n",
       "    .dataframe thead th {\n",
       "        text-align: right;\n",
       "    }\n",
       "</style>\n",
       "<table border=\"1\" class=\"dataframe\">\n",
       "  <thead>\n",
       "    <tr style=\"text-align: right;\">\n",
       "      <th></th>\n",
       "      <th>kid_score</th>\n",
       "      <th>mom_hs</th>\n",
       "      <th>mom_iq</th>\n",
       "      <th>mom_work</th>\n",
       "      <th>mom_age</th>\n",
       "    </tr>\n",
       "  </thead>\n",
       "  <tbody>\n",
       "    <tr>\n",
       "      <th>0</th>\n",
       "      <td>65</td>\n",
       "      <td>1</td>\n",
       "      <td>121.117529</td>\n",
       "      <td>4</td>\n",
       "      <td>27</td>\n",
       "    </tr>\n",
       "    <tr>\n",
       "      <th>1</th>\n",
       "      <td>98</td>\n",
       "      <td>1</td>\n",
       "      <td>89.361882</td>\n",
       "      <td>4</td>\n",
       "      <td>25</td>\n",
       "    </tr>\n",
       "    <tr>\n",
       "      <th>2</th>\n",
       "      <td>85</td>\n",
       "      <td>1</td>\n",
       "      <td>115.443165</td>\n",
       "      <td>4</td>\n",
       "      <td>27</td>\n",
       "    </tr>\n",
       "    <tr>\n",
       "      <th>3</th>\n",
       "      <td>83</td>\n",
       "      <td>1</td>\n",
       "      <td>99.449639</td>\n",
       "      <td>3</td>\n",
       "      <td>25</td>\n",
       "    </tr>\n",
       "    <tr>\n",
       "      <th>4</th>\n",
       "      <td>115</td>\n",
       "      <td>1</td>\n",
       "      <td>92.745710</td>\n",
       "      <td>4</td>\n",
       "      <td>27</td>\n",
       "    </tr>\n",
       "  </tbody>\n",
       "</table>\n",
       "</div>"
      ],
      "text/plain": [
       "   kid_score  mom_hs      mom_iq  mom_work  mom_age\n",
       "0         65       1  121.117529         4       27\n",
       "1         98       1   89.361882         4       25\n",
       "2         85       1  115.443165         4       27\n",
       "3         83       1   99.449639         3       25\n",
       "4        115       1   92.745710         4       27"
      ]
     },
     "execution_count": 13,
     "metadata": {},
     "output_type": "execute_result"
    }
   ],
   "source": [
    "import pandas as pd\n",
    "import numpy as np\n",
    "import matplotlib.pyplot as plt\n",
    "df = pd.read_csv(\"shared/data/momiq.csv\")\n",
    "df.head()"
   ]
  },
  {
   "cell_type": "markdown",
   "id": "e173f57c-7e5b-4f2a-ad8c-da8fac4b5170",
   "metadata": {},
   "source": [
    "Explanatory Variable (X): Mom IQ score\n",
    "\n",
    "Response Variable (Y): Child test score"
   ]
  },
  {
   "cell_type": "code",
   "execution_count": 14,
   "id": "5dc7a894-2056-4459-93d3-f315d2296375",
   "metadata": {},
   "outputs": [
    {
     "data": {
      "image/png": "[encoded data removed]",
      "text/plain": [
       "<Figure size 432x288 with 1 Axes>"
      ]
     },
     "metadata": {
      "needs_background": "light"
     },
     "output_type": "display_data"
    }
   ],
   "source": [
    "plt.scatter(df['mom_iq'], df['kid_score'], s=2)\n",
    "plt.title('Child Test Score vs. Mom IQ Score')\n",
    "plt.xlabel('Mom IQ Score')\n",
    "plt.ylabel('Child Test Score')\n",
    "plt.show()"
   ]
  },
  {
   "cell_type": "code",
   "execution_count": 15,
   "id": "f77b0593-8ceb-4242-b118-c86dd85624ae",
   "metadata": {},
   "outputs": [
    {
     "name": "stdout",
     "output_type": "stream",
     "text": [
      "Mom IQ Score and Child Test Score Correlation: 0.4483\n",
      "Child Score Mean: 86.7972\n",
      "Mom IQ Score Mean: 100.0\n",
      "Child Score Standard Deviation: 20.4107\n",
      "Mom IQ Score Standard Deviation: 15.0\n"
     ]
    }
   ],
   "source": [
    "print(f\"Mom IQ Score and Child Test Score Correlation: {round(df['mom_iq'].corr(df['kid_score']), 4)}\")\n",
    "# Will plot the x and y means and std for clarity in future problems\n",
    "print(f\"Child Score Mean: {round(df['kid_score'].mean(), 4)}\")\n",
    "print(f\"Mom IQ Score Mean: {round(df['mom_iq'].mean(), 4)}\")\n",
    "print(f\"Child Score Standard Deviation: {round(df['kid_score'].std(), 4)}\")\n",
    "print(f\"Mom IQ Score Standard Deviation: {round(df['mom_iq'].std(), 4)}\")"
   ]
  },
  {
   "cell_type": "markdown",
   "id": "9a58f53b-d72d-44cb-87b4-87d774220585",
   "metadata": {},
   "source": [
    "I selected  Mom IQ as the explanatory variable and child test scores as the response variable. I assigned the variables in this way because it is more intuitive to think of different Mom IQ's dictating change in child test scores, as opposed to different child test scores dictating Mom IQ's. It is not implausible to think that higher mom IQ's could signify certain genetic cognitive advantages that can be passed on to children, as well as certain learning/study habits that the mother could pass on to the child. Based on the data, the correlation between Mom IQ score and child test score is .4483, which means that there is a positive correlation which is not too strong or weak. "
   ]
  },
  {
   "cell_type": "code",
   "execution_count": 16,
   "id": "dd04cab5-c0de-4367-ac10-ce26afc2ba8e",
   "metadata": {},
   "outputs": [],
   "source": [
    "def standardize(col):\n",
    "    \"\"\"\n",
    "    Standardize the input column by converting values to z-scores.\n",
    "    This function subtracts the mean from each value in the series and then divides the result by the standard deviation of the series. \n",
    "    \"\"\"\n",
    "    # Get z-scores of each value\n",
    "    z_scores = (col - col.mean()) / col.std()\n",
    "    return z_scores"
   ]
  },
  {
   "cell_type": "code",
   "execution_count": 17,
   "id": "ee4afed6-813e-429c-9005-e0111bc204ff",
   "metadata": {},
   "outputs": [
    {
     "data": {
      "text/html": [
       "<div>\n",
       "<style scoped>\n",
       "    .dataframe tbody tr th:only-of-type {\n",
       "        vertical-align: middle;\n",
       "    }\n",
       "\n",
       "    .dataframe tbody tr th {\n",
       "        vertical-align: top;\n",
       "    }\n",
       "\n",
       "    .dataframe thead th {\n",
       "        text-align: right;\n",
       "    }\n",
       "</style>\n",
       "<table border=\"1\" class=\"dataframe\">\n",
       "  <thead>\n",
       "    <tr style=\"text-align: right;\">\n",
       "      <th></th>\n",
       "      <th>kid_score</th>\n",
       "      <th>mom_hs</th>\n",
       "      <th>mom_iq</th>\n",
       "      <th>mom_work</th>\n",
       "      <th>mom_age</th>\n",
       "      <th>Standardized_mom_iq</th>\n",
       "      <th>Standardized_kid_score</th>\n",
       "    </tr>\n",
       "  </thead>\n",
       "  <tbody>\n",
       "    <tr>\n",
       "      <th>0</th>\n",
       "      <td>65</td>\n",
       "      <td>1</td>\n",
       "      <td>121.117529</td>\n",
       "      <td>4</td>\n",
       "      <td>27</td>\n",
       "      <td>1.407835</td>\n",
       "      <td>-1.067932</td>\n",
       "    </tr>\n",
       "    <tr>\n",
       "      <th>1</th>\n",
       "      <td>98</td>\n",
       "      <td>1</td>\n",
       "      <td>89.361882</td>\n",
       "      <td>4</td>\n",
       "      <td>25</td>\n",
       "      <td>-0.709208</td>\n",
       "      <td>0.548868</td>\n",
       "    </tr>\n",
       "    <tr>\n",
       "      <th>2</th>\n",
       "      <td>85</td>\n",
       "      <td>1</td>\n",
       "      <td>115.443165</td>\n",
       "      <td>4</td>\n",
       "      <td>27</td>\n",
       "      <td>1.029544</td>\n",
       "      <td>-0.088054</td>\n",
       "    </tr>\n",
       "    <tr>\n",
       "      <th>3</th>\n",
       "      <td>83</td>\n",
       "      <td>1</td>\n",
       "      <td>99.449639</td>\n",
       "      <td>3</td>\n",
       "      <td>25</td>\n",
       "      <td>-0.036691</td>\n",
       "      <td>-0.186041</td>\n",
       "    </tr>\n",
       "    <tr>\n",
       "      <th>4</th>\n",
       "      <td>115</td>\n",
       "      <td>1</td>\n",
       "      <td>92.745710</td>\n",
       "      <td>4</td>\n",
       "      <td>27</td>\n",
       "      <td>-0.483619</td>\n",
       "      <td>1.381765</td>\n",
       "    </tr>\n",
       "  </tbody>\n",
       "</table>\n",
       "</div>"
      ],
      "text/plain": [
       "   kid_score  mom_hs      mom_iq  mom_work  mom_age  Standardized_mom_iq  \\\n",
       "0         65       1  121.117529         4       27             1.407835   \n",
       "1         98       1   89.361882         4       25            -0.709208   \n",
       "2         85       1  115.443165         4       27             1.029544   \n",
       "3         83       1   99.449639         3       25            -0.036691   \n",
       "4        115       1   92.745710         4       27            -0.483619   \n",
       "\n",
       "   Standardized_kid_score  \n",
       "0               -1.067932  \n",
       "1                0.548868  \n",
       "2               -0.088054  \n",
       "3               -0.186041  \n",
       "4                1.381765  "
      ]
     },
     "execution_count": 17,
     "metadata": {},
     "output_type": "execute_result"
    }
   ],
   "source": [
    "#Standardize mom_iq values and assign to new column\n",
    "df['Standardized_mom_iq'] = standardize(df['mom_iq'])\n",
    "#Standardize kid_score values and assign to new column\n",
    "df['Standardized_kid_score'] = standardize(df['kid_score'])\n",
    "df.head()"
   ]
  },
  {
   "cell_type": "code",
   "execution_count": 18,
   "id": "7cbd5bac-93b3-4abf-ae14-7a4e0dd5da70",
   "metadata": {},
   "outputs": [
    {
     "data": {
      "image/png": "[encoded data removed]",
      "text/plain": [
       "<Figure size 432x288 with 1 Axes>"
      ]
     },
     "metadata": {
      "needs_background": "light"
     },
     "output_type": "display_data"
    }
   ],
   "source": [
    "plt.scatter(df['Standardized_mom_iq'], df['Standardized_kid_score'], s=2)\n",
    "plt.title('Child Test Score vs. Mom IQ Score (Standardized)')\n",
    "plt.xlabel('Mom IQ Score (Standardized)')\n",
    "plt.ylabel('Child Test Score (Standardized)')\n",
    "# Set the x- and y-axis limits to the interval [−3, 3].\n",
    "plt.xlim(-3, 3)\n",
    "plt.ylim(-3, 3)\n",
    "plt.show()"
   ]
  },
  {
   "cell_type": "code",
   "execution_count": 19,
   "id": "bf997095-86b7-4f41-985e-5635ffb3cc4d",
   "metadata": {},
   "outputs": [
    {
     "name": "stdout",
     "output_type": "stream",
     "text": [
      "Mom IQ Score and Child Test Score Correlation (Standardized): 0.4483\n",
      "Child Score Mean (Standardized): -0.0\n",
      "Mom IQ Score Mean (Standardized): -0.0\n",
      "Child Score Standard Deviation (Standardized): 1.0\n",
      "Mom IQ Score Standard Deviation (Standardized): 1.0\n"
     ]
    }
   ],
   "source": [
    "print(f\"Mom IQ Score and Child Test Score Correlation (Standardized): {round(df['Standardized_mom_iq'].corr(df['Standardized_kid_score']), 4)}\")\n",
    "# Use new mean and standard deviation calculations to comment on similarities and differences of previous scatter to standardized scatter\n",
    "print(f\"Child Score Mean (Standardized): {round(df['Standardized_kid_score'].mean(), 4)}\")\n",
    "print(f\"Mom IQ Score Mean (Standardized): {round(df['Standardized_mom_iq'].mean(), 4)}\")\n",
    "print(f\"Child Score Standard Deviation (Standardized): {round(df['Standardized_kid_score'].std(), 4)}\")\n",
    "print(f\"Mom IQ Score Standard Deviation (Standardized): {round(df['Standardized_mom_iq'].std(), 4)}\")"
   ]
  },
  {
   "cell_type": "markdown",
   "id": "6a86de00-7164-4d42-924b-1156dd9819c4",
   "metadata": {},
   "source": [
    "Notice that after standardizing both columns and plotting, the graph looks almost identical barring the intervals on the x and y axes. The correlation is the exact same (0.4483) as the previous scatter plot, but now the mean of the x-values and y-values is 0 (rounding to the nearest 4th decimal place). The standard deviation for the x-values and y-values after standardizing is 1. In the previous scatter plot, the child score mean was 86.79, while the mom IQ score mean was 100.0 rounded to the nearest 4th decimal. The child score standard deviation was 20.41 and the mom IQ score standard deviation was 15.0. "
   ]
  },
  {
   "cell_type": "code",
   "execution_count": 20,
   "id": "d0c52b94-575d-42e7-913e-42bf74e5e954",
   "metadata": {},
   "outputs": [
    {
     "data": {
      "text/html": [
       "<table class=\"simpletable\">\n",
       "<caption>OLS Regression Results</caption>\n",
       "<tr>\n",
       "  <th>Dep. Variable:</th>    <td>Standardized_kid_score</td> <th>  R-squared:         </th> <td>   0.201</td>\n",
       "</tr>\n",
       "<tr>\n",
       "  <th>Model:</th>                      <td>OLS</td>          <th>  Adj. R-squared:    </th> <td>   0.199</td>\n",
       "</tr>\n",
       "<tr>\n",
       "  <th>Method:</th>                <td>Least Squares</td>     <th>  F-statistic:       </th> <td>   108.6</td>\n",
       "</tr>\n",
       "<tr>\n",
       "  <th>Date:</th>                <td>Tue, 05 Nov 2024</td>    <th>  Prob (F-statistic):</th> <td>7.66e-23</td>\n",
       "</tr>\n",
       "<tr>\n",
       "  <th>Time:</th>                    <td>13:23:55</td>        <th>  Log-Likelihood:    </th> <td> -566.64</td>\n",
       "</tr>\n",
       "<tr>\n",
       "  <th>No. Observations:</th>         <td>   434</td>         <th>  AIC:               </th> <td>   1137.</td>\n",
       "</tr>\n",
       "<tr>\n",
       "  <th>Df Residuals:</th>             <td>   432</td>         <th>  BIC:               </th> <td>   1145.</td>\n",
       "</tr>\n",
       "<tr>\n",
       "  <th>Df Model:</th>                 <td>     1</td>         <th>                     </th>     <td> </td>   \n",
       "</tr>\n",
       "<tr>\n",
       "  <th>Covariance Type:</th>         <td>nonrobust</td>       <th>                     </th>     <td> </td>   \n",
       "</tr>\n",
       "</table>\n",
       "<table class=\"simpletable\">\n",
       "<tr>\n",
       "           <td></td>              <th>coef</th>     <th>std err</th>      <th>t</th>      <th>P>|t|</th>  <th>[0.025</th>    <th>0.975]</th>  \n",
       "</tr>\n",
       "<tr>\n",
       "  <th>Intercept</th>           <td>-2.695e-16</td> <td>    0.043</td> <td>-6.27e-15</td> <td> 1.000</td> <td>   -0.084</td> <td>    0.084</td>\n",
       "</tr>\n",
       "<tr>\n",
       "  <th>Standardized_mom_iq</th> <td>    0.4483</td> <td>    0.043</td> <td>   10.423</td> <td> 0.000</td> <td>    0.364</td> <td>    0.533</td>\n",
       "</tr>\n",
       "</table>\n",
       "<table class=\"simpletable\">\n",
       "<tr>\n",
       "  <th>Omnibus:</th>       <td> 7.545</td> <th>  Durbin-Watson:     </th> <td>   1.645</td>\n",
       "</tr>\n",
       "<tr>\n",
       "  <th>Prob(Omnibus):</th> <td> 0.023</td> <th>  Jarque-Bera (JB):  </th> <td>   7.735</td>\n",
       "</tr>\n",
       "<tr>\n",
       "  <th>Skew:</th>          <td>-0.324</td> <th>  Prob(JB):          </th> <td>  0.0209</td>\n",
       "</tr>\n",
       "<tr>\n",
       "  <th>Kurtosis:</th>      <td> 2.919</td> <th>  Cond. No.          </th> <td>    1.00</td>\n",
       "</tr>\n",
       "</table><br/><br/>Warnings:<br/>[1] Standard Errors assume that the covariance matrix of the errors is correctly specified."
      ],
      "text/plain": [
       "<class 'statsmodels.iolib.summary.Summary'>\n",
       "\"\"\"\n",
       "                              OLS Regression Results                              \n",
       "==================================================================================\n",
       "Dep. Variable:     Standardized_kid_score   R-squared:                       0.201\n",
       "Model:                                OLS   Adj. R-squared:                  0.199\n",
       "Method:                     Least Squares   F-statistic:                     108.6\n",
       "Date:                    Tue, 05 Nov 2024   Prob (F-statistic):           7.66e-23\n",
       "Time:                            13:23:55   Log-Likelihood:                -566.64\n",
       "No. Observations:                     434   AIC:                             1137.\n",
       "Df Residuals:                         432   BIC:                             1145.\n",
       "Df Model:                               1                                         \n",
       "Covariance Type:                nonrobust                                         \n",
       "=======================================================================================\n",
       "                          coef    std err          t      P>|t|      [0.025      0.975]\n",
       "---------------------------------------------------------------------------------------\n",
       "Intercept           -2.695e-16      0.043  -6.27e-15      1.000      -0.084       0.084\n",
       "Standardized_mom_iq     0.4483      0.043     10.423      0.000       0.364       0.533\n",
       "==============================================================================\n",
       "Omnibus:                        7.545   Durbin-Watson:                   1.645\n",
       "Prob(Omnibus):                  0.023   Jarque-Bera (JB):                7.735\n",
       "Skew:                          -0.324   Prob(JB):                       0.0209\n",
       "Kurtosis:                       2.919   Cond. No.                         1.00\n",
       "==============================================================================\n",
       "\n",
       "Warnings:\n",
       "[1] Standard Errors assume that the covariance matrix of the errors is correctly specified.\n",
       "\"\"\""
      ]
     },
     "execution_count": 20,
     "metadata": {},
     "output_type": "execute_result"
    }
   ],
   "source": [
    "import statsmodels.formula.api as smf\n",
    "\n",
    "mod = smf.ols(formula='Standardized_kid_score ~ Standardized_mom_iq', data=df).fit()\n",
    "mod.summary()"
   ]
  },
  {
   "cell_type": "markdown",
   "id": "53c54356-b27a-4bb1-b1b5-6c2d763493a9",
   "metadata": {},
   "source": [
    "**NOTICE**: The slope of the regression line when the x and y variables are standardized is the same as the correlation coefficient between x and y (.4483)."
   ]
  },
  {
   "cell_type": "code",
   "execution_count": 21,
   "id": "2bade26c-b81f-402a-b84c-24c5d845b319",
   "metadata": {},
   "outputs": [
    {
     "data": {
      "image/png": "[encoded data removed]",
      "text/plain": [
       "<Figure size 432x288 with 1 Axes>"
      ]
     },
     "metadata": {
      "needs_background": "light"
     },
     "output_type": "display_data"
    }
   ],
   "source": [
    "plt.scatter(df['Standardized_mom_iq'], df['Standardized_kid_score'], s=2)\n",
    "plt.title('Child Test Score vs. Mom IQ Score (Standardized)')\n",
    "plt.xlabel('Mom IQ Score (Standardized)')\n",
    "plt.ylabel('Child Test Score (Standardized)')\n",
    "plt.xlim(-3, 3)\n",
    "plt.ylim(-3, 3)\n",
    "#Perfect, already wrote code to plot different OLS in part 1h\n",
    "\n",
    "x_range = np.linspace(-3, 3)\n",
    "y_predicted = mod.predict(pd.DataFrame({'Standardized_mom_iq': x_range}))\n",
    "plt.plot(x_range, y_predicted, label='OLS Line', linestyle='--', color='red')\n",
    "\n",
    "#Code for the y = x line in black\n",
    "\n",
    "plt.plot([-3, 3], [-3, 3], label='y = x', linestyle='--', color='black')\n",
    "\n",
    "plt.legend()\n",
    "plt.show()"
   ]
  },
  {
   "cell_type": "code",
   "execution_count": 22,
   "id": "d698bc45-5b88-4176-929f-448677141412",
   "metadata": {},
   "outputs": [
    {
     "name": "stdout",
     "output_type": "stream",
     "text": [
      "Root Mean Square Error for OLS: 0.8929\n",
      "Root Mean Square Error for y = x: 1.0492\n"
     ]
    }
   ],
   "source": [
    "#Here I will calculate the RMSE for the OLS regression and y = x to help answer part (g)\n",
    "import numpy as np\n",
    "import pandas as pd\n",
    "from sklearn.metrics import mean_squared_error\n",
    "from math import sqrt\n",
    "\n",
    "# Use previous model of OLS prediction\n",
    "y_predicted = mod.predict(df[['Standardized_mom_iq']])\n",
    "# Use x values for y 'predictions' in y = x\n",
    "predictions_y_equals_x = df['Standardized_mom_iq']\n",
    "\n",
    "# Using actual child test score values\n",
    "actual_y = df['Standardized_kid_score'].values\n",
    "\n",
    "# Calculate RMSE for OLS with sklearn library import\n",
    "mse = mean_squared_error(actual_y, y_predicted)\n",
    "rmse = sqrt(mse)\n",
    "\n",
    "# Calculate RMSE for y = x with sklearn library import\n",
    "mse_y_equals_x = mean_squared_error(actual_y, predictions_y_equals_x)\n",
    "rmse_y_equals_x = sqrt(mse_y_equals_x)\n",
    "\n",
    "print(\"Root Mean Square Error for OLS:\", round(rmse, 4))\n",
    "print(\"Root Mean Square Error for y = x:\", round(rmse_y_equals_x, 4))"
   ]
  },
  {
   "cell_type": "markdown",
   "id": "7cf5f015-7e3c-4c2c-9e00-ad8345be8196",
   "metadata": {},
   "source": [
    "**Notice**: that since the OLS regression line has a smaller RMSE, we can say it fits the data better. This was also my expectation visually, as the data points seem to concentrate closer to the OLS regression that the y = x line. "
   ]
  }
 ],
 "metadata": {
  "kernelspec": {
   "display_name": "Python [conda env:dsua-111]",
   "language": "python",
   "name": "conda-env-dsua-111-py"
  },
  "language_info": {
   "codemirror_mode": {
    "name": "ipython",
    "version": 3
   },
   "file_extension": ".py",
   "mimetype": "text/x-python",
   "name": "python",
   "nbconvert_exporter": "python",
   "pygments_lexer": "ipython3",
   "version": "3.7.6"
  }
 },
 "nbformat": 4,
 "nbformat_minor": 5
}
